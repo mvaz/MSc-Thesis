{
 "cells": [
  {
   "cell_type": "code",
   "execution_count": 1,
   "metadata": {
    "collapsed": true
   },
   "outputs": [],
   "source": [
    "import networkx as nx\n",
    "import pandas as pd\n",
    "from matplotlib import pyplot as plt\n",
    "import numpy as np"
   ]
  },
  {
   "cell_type": "code",
   "execution_count": 2,
   "metadata": {
    "collapsed": false
   },
   "outputs": [
    {
     "name": "stdout",
     "output_type": "stream",
     "text": [
      " .png\r\n",
      "Collateral.ipynb\r\n",
      "DatenAnneKleppe.ipynb\r\n",
      "Giant Component.ipynb\r\n",
      "Polylogarithm.ipynb\r\n",
      "Power law fitting.ipynb\r\n",
      "Power law.ipynb\r\n",
      "Ramping Parameter.ipynb\r\n",
      "Random Graph Model.ipynb\r\n",
      "Stylized portfolios.png\r\n",
      "TestResults_CharacteristicBankPortfolio_Willmott.xls\r\n",
      "collateral.csv\r\n",
      "\u001b[34mdata\u001b[m\u001b[m\r\n",
      "ramping_parameter_example.png\r\n"
     ]
    }
   ],
   "source": [
    "!ls"
   ]
  },
  {
   "cell_type": "code",
   "execution_count": 3,
   "metadata": {
    "collapsed": false
   },
   "outputs": [],
   "source": [
    "G_fb = nx.read_edgelist(\"data/facebook_combined.txt\", create_using = nx.Graph(), nodetype = int)"
   ]
  },
  {
   "cell_type": "code",
   "execution_count": 4,
   "metadata": {
    "collapsed": false
   },
   "outputs": [
    {
     "data": {
      "text/plain": [
       "<matplotlib.axes._subplots.AxesSubplot at 0x116781b70>"
      ]
     },
     "execution_count": 4,
     "metadata": {},
     "output_type": "execute_result"
    }
   ],
   "source": [
    "pd.Series(G_fb.degree()).hist()"
   ]
  },
  {
   "cell_type": "code",
   "execution_count": 5,
   "metadata": {
    "collapsed": false
   },
   "outputs": [
    {
     "data": {
      "text/plain": [
       "<bound method hist_series of 0       347\n",
       "1        17\n",
       "2        10\n",
       "3        17\n",
       "4        10\n",
       "5        13\n",
       "6         6\n",
       "7        20\n",
       "8         8\n",
       "9        57\n",
       "10       10\n",
       "11        1\n",
       "12        1\n",
       "13       31\n",
       "14       15\n",
       "15        1\n",
       "16        9\n",
       "17       13\n",
       "18        1\n",
       "19       16\n",
       "20       15\n",
       "21       65\n",
       "22       11\n",
       "23       17\n",
       "24       16\n",
       "25       69\n",
       "26       68\n",
       "27        5\n",
       "28       13\n",
       "29       13\n",
       "       ... \n",
       "4009     10\n",
       "4010      1\n",
       "4011      4\n",
       "4012      2\n",
       "4013      6\n",
       "4014     12\n",
       "4015      1\n",
       "4016      4\n",
       "4017      9\n",
       "4018      7\n",
       "4019      8\n",
       "4020      8\n",
       "4021     11\n",
       "4022      1\n",
       "4023     18\n",
       "4024      1\n",
       "4025      4\n",
       "4026      9\n",
       "4027      7\n",
       "4028      2\n",
       "4029      2\n",
       "4030     19\n",
       "4031     11\n",
       "4032      2\n",
       "4033      3\n",
       "4034      2\n",
       "4035      1\n",
       "4036      2\n",
       "4037      4\n",
       "4038      9\n",
       "dtype: int64>"
      ]
     },
     "execution_count": 5,
     "metadata": {},
     "output_type": "execute_result"
    }
   ],
   "source": [
    "pd.Series(G_fb.degree()).hist"
   ]
  },
  {
   "cell_type": "code",
   "execution_count": 6,
   "metadata": {
    "collapsed": true
   },
   "outputs": [],
   "source": [
    "import numpy as np"
   ]
  },
  {
   "cell_type": "code",
   "execution_count": 7,
   "metadata": {
    "collapsed": false
   },
   "outputs": [],
   "source": [
    "k = pd.Series(G_fb.degree()).values\n",
    "bins = np.linspace(1,max(k),max(k))"
   ]
  },
  {
   "cell_type": "code",
   "execution_count": 8,
   "metadata": {
    "collapsed": false
   },
   "outputs": [],
   "source": [
    "d_k = np.histogram(k, bins=bins)"
   ]
  },
  {
   "cell_type": "code",
   "execution_count": 9,
   "metadata": {
    "collapsed": false
   },
   "outputs": [],
   "source": [
    "ydata = d_k[0]\n",
    "xdata = bins"
   ]
  },
  {
   "cell_type": "code",
   "execution_count": 10,
   "metadata": {
    "collapsed": false
   },
   "outputs": [
    {
     "data": {
      "text/plain": [
       "[<matplotlib.lines.Line2D at 0x11bcc1860>]"
      ]
     },
     "execution_count": 10,
     "metadata": {},
     "output_type": "execute_result"
    },
    {
     "data": {
      "image/png": "[encoded data removed]",
      "text/plain": [
       "<matplotlib.figure.Figure at 0x1165df5c0>"
      ]
     },
     "metadata": {},
     "output_type": "display_data"
    }
   ],
   "source": [
    "%matplotlib inline\n",
    "plt.plot(d_k[0])"
   ]
  },
  {
   "cell_type": "code",
   "execution_count": 11,
   "metadata": {
    "collapsed": false
   },
   "outputs": [
    {
     "name": "stdout",
     "output_type": "stream",
     "text": [
      "PYTHON plfit executed in 0.068189 seconds\n",
      "xmin: 0.460827 n(>xmin): 547 alpha: 3.33525 +/- 0.0998479   Log-Likelihood: 106.462   ks: 0.187899 p(ks): 0\n"
     ]
    },
    {
     "name": "stderr",
     "output_type": "stream",
     "text": [
      "/usr/local/anaconda3/lib/python3.5/site-packages/plfit/plfit.py:119: RuntimeWarning: divide by zero encountered in double_scalars\n",
      "  a = 1+float(n) / sum(log(x/xmin))\n"
     ]
    }
   ],
   "source": [
    "import plfit\n",
    "X = np.random.rand(1000)\n",
    "myplfit = plfit.plfit(X)\n"
   ]
  },
  {
   "cell_type": "code",
   "execution_count": 13,
   "metadata": {
    "collapsed": false
   },
   "outputs": [],
   "source": [
    "# logx = np.log10(xdata)\n",
    "# logy = np.log10(ydata)\n",
    "# logyerr = yerr / ydata\n",
    "\n",
    "# # define our (line) fitting function\n",
    "# fitfunc = lambda p, x: p[0] + p[1] * x\n",
    "# errfunc = lambda p, x, y, err: (y - fitfunc(p, x)) / err\n",
    "\n",
    "# pinit = [1.0, -1.0]\n",
    "# out = optimize.leastsq(errfunc, pinit,\n",
    "#                        args=(logx, logy, logyerr), full_output=1)\n",
    "\n",
    "# pfinal = out[0]\n",
    "# covar = out[1]\n",
    "# print(pfinal)\n",
    "# print(covar)\n",
    "\n",
    "# index = pfinal[1]\n",
    "# amp = 10.0**pfinal[0]\n",
    "\n",
    "# indexErr = np.sqrt( covar[0][0] )\n",
    "# ampErr = np.sqrt( covar[1][1] ) * amp\n"
   ]
  },
  {
   "cell_type": "code",
   "execution_count": 14,
   "metadata": {
    "collapsed": false
   },
   "outputs": [
    {
     "data": {
      "text/plain": [
       "<matplotlib.axes._subplots.AxesSubplot at 0x11ca3b5c0>"
      ]
     },
     "execution_count": 14,
     "metadata": {},
     "output_type": "execute_result"
    },
    {
     "data": {
      "image/png": "[encoded data removed]",
      "text/plain": [
       "<matplotlib.figure.Figure at 0x11ca13978>"
      ]
     },
     "metadata": {},
     "output_type": "display_data"
    }
   ],
   "source": [
    "%matplotlib inline\n",
    "np.log(pd.Series(G_fb.degree())).plot.hist(bins=bins)"
   ]
  },
  {
   "cell_type": "code",
   "execution_count": 15,
   "metadata": {
    "collapsed": true
   },
   "outputs": [],
   "source": [
    "from scipy.stats import powerlaw\n",
    "import matplotlib.pyplot as plt"
   ]
  },
  {
   "cell_type": "code",
   "execution_count": 16,
   "metadata": {
    "collapsed": false
   },
   "outputs": [
    {
     "name": "stderr",
     "output_type": "stream",
     "text": [
      "/usr/local/anaconda3/lib/python3.5/site-packages/plfit/plfit.py:762: RuntimeWarning: invalid value encountered in power\n",
      "  Ppl = lambda X: 1+C*(xmin/(1-alpha)*(X/xmin)**(1-alpha))\n"
     ]
    },
    {
     "data": {
      "text/plain": [
       "[<matplotlib.lines.Line2D at 0x11d1cfe80>]"
      ]
     },
     "execution_count": 16,
     "metadata": {},
     "output_type": "execute_result"
    },
    {
     "data": {
      "image/png": "[encoded data removed]",
      "text/plain": [
       "<matplotlib.figure.Figure at 0x11cacae10>"
      ]
     },
     "metadata": {},
     "output_type": "display_data"
    }
   ],
   "source": [
    "%matplotlib inline\n",
    "plt.plot(plfit.plexp_inv(np.random.rand(1000),1,2.5))"
   ]
  },
  {
   "cell_type": "code",
   "execution_count": 17,
   "metadata": {
    "collapsed": false
   },
   "outputs": [
    {
     "data": {
      "text/plain": [
       "array([  1.00000000e+00,   2.00000000e+00,   3.00000000e+00, ...,\n",
       "         1.04300000e+03,   1.04400000e+03,   1.04500000e+03])"
      ]
     },
     "execution_count": 17,
     "metadata": {},
     "output_type": "execute_result"
    }
   ],
   "source": [
    "xdata"
   ]
  },
  {
   "cell_type": "code",
   "execution_count": 18,
   "metadata": {
    "collapsed": false
   },
   "outputs": [],
   "source": [
    "%matplotlib inline\n",
    "# plt.figure()\n",
    "f = myplfit.test_pl?"
   ]
  },
  {
   "cell_type": "code",
   "execution_count": null,
   "metadata": {
    "collapsed": true
   },
   "outputs": [],
   "source": [
    "f = myplfit.test_pl"
   ]
  },
  {
   "cell_type": "code",
   "execution_count": 19,
   "metadata": {
    "collapsed": true
   },
   "outputs": [],
   "source": [
    "f = myplfit.test_pl"
   ]
  },
  {
   "cell_type": "code",
   "execution_count": 20,
   "metadata": {
    "collapsed": true
   },
   "outputs": [],
   "source": [
    "xrange = range"
   ]
  },
  {
   "cell_type": "code",
   "execution_count": 21,
   "metadata": {
    "collapsed": false
   },
   "outputs": [
    {
     "name": "stderr",
     "output_type": "stream",
     "text": [
      "/usr/local/anaconda3/lib/python3.5/site-packages/plfit/plfit.py:969: RuntimeWarning: invalid value encountered in log\n",
      "  alpha = 1.0 + float(nn) * ( sum(log(xx/(xmin-0.5))) )**-1\n"
     ]
    },
    {
     "name": "stdout",
     "output_type": "stream",
     "text": [
      "p(1000) = 0.132\n"
     ]
    },
    {
     "data": {
      "text/plain": [
       "(0.13200000000000001,\n",
       " array([  5.60171067e-02,   2.13841072e-01,   1.94081447e-01,\n",
       "          1.23864703e-01,   8.30972258e-02,   9.13231266e-02,\n",
       "          1.17507883e-01,   3.45629141e-02,   1.08145280e-01,\n",
       "          1.46451485e-01,   2.07569582e-01,   1.63587813e-01,\n",
       "          1.29730572e-01,   1.26645443e-01,   1.21253623e-01,\n",
       "          2.02484474e-01,   2.31463367e-01,   1.49971320e-01,\n",
       "          5.13041475e-02,   9.59582067e-02,   1.53058960e-01,\n",
       "          1.03111178e-01,   1.30537096e-01,   1.25669993e-02,\n",
       "          1.41648544e-01,   1.19359753e-01,   8.35622035e-02,\n",
       "          7.46523704e-02,   1.10565658e-01,   1.51915271e-02,\n",
       "          8.94881207e-02,   1.54873910e-01,   9.27820283e-02,\n",
       "          2.65925034e-01,   1.34990795e-01,   1.17127899e-01,\n",
       "          1.69959488e-01,   2.07717440e-01,   6.89246422e-02,\n",
       "          8.23487409e-02,   6.37553785e-02,   1.05145138e-01,\n",
       "          1.62043540e-01,   1.60881648e-01,   1.09413520e-01,\n",
       "          1.80938422e-01,   1.18309727e-01,   7.44805443e-02,\n",
       "          2.55451840e-01,   8.44820077e-02,   1.16115195e-01,\n",
       "          1.34278911e-01,   1.21708507e-01,   2.36983150e-01,\n",
       "          7.85660431e-02,   1.08165254e-01,   1.22047284e-01,\n",
       "          9.52520211e-02,   9.88926342e-02,   3.55340989e-02,\n",
       "          7.11284527e-02,   5.18878892e-02,   1.27844649e-02,\n",
       "          1.07715735e-01,   3.29378509e-02,   1.23937963e-01,\n",
       "          7.84155391e-02,   1.74958440e-01,   1.53891170e-01,\n",
       "          9.10840155e-02,   1.61591484e-01,   8.85718478e-02,\n",
       "          2.09308491e-01,   1.50476006e-01,   1.10517849e-01,\n",
       "          1.70834576e-02,   2.31359117e-01,   2.30812027e-01,\n",
       "          9.01809303e-02,   1.19989519e-01,   1.01464001e-01,\n",
       "          2.04521813e-01,   4.41969132e-02,   1.65436573e-01,\n",
       "          1.91180390e-01,   1.17760328e-01,   1.17856605e-01,\n",
       "          7.68735794e-02,   1.48858676e-01,   7.86292347e-02,\n",
       "          1.27260905e-01,   6.14760930e-02,   1.52369724e-01,\n",
       "          6.40522245e-02,   9.22869335e-02,   7.25197850e-02,\n",
       "          1.64216463e-01,   9.41683682e-02,   1.43775802e-01,\n",
       "          1.71668098e-01,   8.75531750e-02,   8.85764126e-02,\n",
       "          1.53343502e-01,   7.19898749e-02,   1.29401007e-01,\n",
       "          8.18798230e-02,   6.28048495e-02,   4.09140061e-02,\n",
       "          7.30665747e-03,   1.65945606e-01,   5.77867649e-02,\n",
       "          4.89956976e-02,   1.05878479e-01,   1.27648610e-01,\n",
       "          5.01075431e-03,   5.64359275e-02,   1.21766481e-01,\n",
       "          1.38058665e-01,   1.25823294e-01,   1.81501599e-01,\n",
       "          5.43267084e-02,   8.95843058e-02,   1.35848279e-01,\n",
       "          1.50396719e-01,   1.09033907e-01,   8.12665020e-02,\n",
       "          6.89550447e-03,   2.05560308e-01,   7.59645944e-02,\n",
       "          1.12410746e-01,   1.22571522e-01,   2.24813688e-01,\n",
       "          9.81867826e-02,   1.01079027e-01,   1.35101282e-01,\n",
       "          1.01611286e-01,   7.41420943e-02,   4.19563318e-02,\n",
       "          6.69154864e-02,   1.50343744e-01,   9.59065089e-02,\n",
       "          1.30827886e-01,   1.17446495e-01,   7.61728467e-02,\n",
       "          9.33115960e-02,   2.30230142e-01,   1.56968438e-01,\n",
       "          7.19144654e-02,   1.15988041e-01,   6.80624320e-02,\n",
       "          8.95171372e-02,   8.95413783e-02,   2.31615803e-01,\n",
       "          2.05461641e-01,   6.52561789e-02,   7.85727645e-02,\n",
       "          1.18075772e-01,   1.63038651e-01,   2.02159380e-01,\n",
       "          1.69168253e-01,   1.42481839e-01,   8.91696581e-02,\n",
       "          4.42664159e-02,   4.37906814e-02,   1.24627633e-01,\n",
       "          6.11883320e-02,   5.83007109e-02,   1.25021102e-01,\n",
       "          1.03485709e-01,   1.03901521e-01,   1.84780326e-02,\n",
       "          1.96250054e-01,   7.00244305e-02,   6.50798332e-02,\n",
       "          8.78953440e-02,   6.44424656e-02,   4.71588184e-02,\n",
       "          1.02003621e-01,   1.33053523e-01,   8.48188993e-02,\n",
       "          1.24512752e-01,   7.13883013e-02,   2.02196355e-01,\n",
       "          1.49435187e-01,   1.46550548e-01,   7.18572512e-02,\n",
       "          9.65218551e-02,   1.20280319e-01,   8.13894163e-02,\n",
       "          1.82214920e-01,   8.81616147e-02,   1.15553700e-01,\n",
       "          1.38029065e-01,   6.09600971e-02,   9.87725753e-02,\n",
       "          9.91694066e-02,   1.59649488e-01,   1.65974400e-01,\n",
       "          5.74805345e-02,   1.02768854e-01,   1.05719411e-01,\n",
       "          1.12625032e-01,   1.13101282e-01,   8.28159447e-02,\n",
       "          8.08720392e-02,   1.46914055e-01,   1.19136675e-01,\n",
       "          1.32517411e-01,   7.37923159e-02,   1.42488121e-01,\n",
       "          1.08954294e-01,   8.59646532e-02,   2.13775139e-01,\n",
       "          7.96235545e-02,   1.85669309e-01,   8.21333750e-02,\n",
       "          1.12486657e-01,   6.10045501e-02,   1.40834744e-01,\n",
       "          1.26106293e-01,   2.39575903e-02,   7.77183521e-02,\n",
       "          1.51417173e-01,   2.00725930e-01,   9.96124683e-02,\n",
       "          1.95650047e-01,   2.03903929e-01,   1.07984004e-01,\n",
       "          1.07102155e-01,   1.15382508e-01,   9.30114528e-02,\n",
       "          1.35342130e-01,   1.72092784e-02,   6.72495630e-03,\n",
       "          7.24536888e-02,   1.06022089e-04,   1.48944507e-01,\n",
       "          1.89782187e-01,   7.36528505e-02,   2.07216814e-01,\n",
       "          1.50531156e-01,   2.00414857e-01,   6.69410179e-02,\n",
       "          1.78391489e-01,   1.72255928e-01,   2.59618387e-01,\n",
       "          2.58948476e-03,   8.04473099e-02,   9.39204689e-02,\n",
       "          1.65685617e-01,   6.59620511e-02,   6.75746955e-02,\n",
       "          2.12697165e-01,   1.86272261e-01,   9.26022917e-02,\n",
       "          1.34302595e-01,   1.90185390e-01,   9.67962251e-02,\n",
       "          1.01690981e-01,   1.42786056e-01,   5.44005397e-02,\n",
       "          1.85507952e-01,   1.53870555e-01,   1.79367324e-01,\n",
       "          1.86722598e-01,   1.24553221e-01,   8.11259667e-02,\n",
       "          1.27695995e-01,   6.81501678e-02,   1.24769138e-01,\n",
       "          1.09317234e-01,   1.12857858e-01,   1.16339592e-01,\n",
       "          1.06641593e-01,   1.68093973e-01,   2.12535307e-01,\n",
       "          1.25507127e-01,   1.59760620e-01,   2.04958796e-01,\n",
       "          1.16135648e-02,   2.14899586e-01,   1.81323176e-01,\n",
       "          1.48950762e-01,   1.91359171e-01,   2.59476753e-01,\n",
       "          6.45274821e-02,   1.46269111e-01,   1.00626704e-01,\n",
       "          9.19487134e-02,   1.05900676e-01,   1.00456203e-01,\n",
       "          1.48465325e-01,   9.91483080e-03,   7.53323142e-02,\n",
       "          7.72707044e-02,   9.38453656e-02,   8.46038464e-02,\n",
       "          1.86866979e-02,   1.53265482e-01,   6.29123469e-02,\n",
       "          1.85046407e-01,   1.30940917e-01,   2.42193265e-01,\n",
       "          5.25597328e-02,   5.38143183e-02,   1.19339382e-01,\n",
       "          1.21462761e-01,   3.92718749e-03,   8.70188758e-03,\n",
       "          2.28897934e-02,   6.62105458e-02,   2.05394766e-02,\n",
       "          8.93929797e-02,   1.57028587e-01,   8.60885507e-02,\n",
       "          7.92674589e-02,   7.51357770e-02,   1.25391990e-01,\n",
       "          2.76002180e-02,   1.17503670e-01,   5.92707579e-02,\n",
       "          8.71427568e-02,   1.12408710e-01,   1.79670074e-01,\n",
       "          3.25334635e-02,   8.68444880e-02,   8.63167186e-02,\n",
       "          9.91414407e-02,   1.67226241e-01,   6.68359071e-02,\n",
       "          7.95942030e-02,   9.69763666e-02,   1.25428371e-02,\n",
       "          1.41456246e-01,   1.71829037e-02,   3.85460459e-02,\n",
       "          1.13518467e-01,   1.49722446e-01,   6.68495997e-02,\n",
       "          1.04811051e-01,   8.36543573e-02,   1.09621345e-01,\n",
       "          5.95969727e-02,   1.43445322e-01,   5.20114789e-02,\n",
       "          2.66476441e-02,   8.26801910e-02,   3.28244142e-02,\n",
       "          8.68013272e-02,   5.63589953e-02,   1.46523678e-01,\n",
       "          1.10122252e-01,   5.07529355e-02,   1.09288435e-01,\n",
       "          1.94712095e-01,   1.38706347e-01,   9.77974276e-02,\n",
       "          1.53723590e-02,   1.35107829e-01,   1.02380197e-01,\n",
       "          1.97963161e-01,   1.12591704e-01,   1.14585425e-01,\n",
       "          1.69487257e-01,   1.18944476e-01,   2.78501363e-01,\n",
       "          1.00704545e-01,   6.60532721e-02,   2.27345560e-02,\n",
       "          1.40133350e-01,   4.01874419e-02,   4.83806485e-02,\n",
       "          2.21841489e-01,   1.68053281e-01,   6.00016138e-02,\n",
       "          7.66264610e-02,   2.08030584e-01,   1.99154999e-01,\n",
       "          1.18300185e-01,   7.69119350e-02,   9.43471750e-02,\n",
       "          1.22998214e-01,   1.42773951e-01,   2.53251417e-01,\n",
       "          9.60356680e-02,   4.86799658e-02,   1.86289010e-01,\n",
       "          4.71898537e-02,   9.08701699e-02,   1.80913187e-01,\n",
       "          1.83692696e-01,   2.05859393e-01,   1.59447785e-01,\n",
       "          8.04524994e-02,   1.18358698e-01,   1.71950808e-01,\n",
       "          2.60652115e-01,   8.36994870e-02,   1.17829377e-01,\n",
       "          1.75481316e-01,   1.90288445e-01,   2.01293512e-01,\n",
       "          2.20409238e-01,   5.88027129e-02,   2.33199050e-01,\n",
       "          8.59813129e-02,   1.61489407e-01,   1.34860670e-01,\n",
       "          3.15267083e-02,   1.40257724e-01,   1.38193627e-01,\n",
       "          2.50397734e-02,   2.36085105e-01,   1.38995017e-01,\n",
       "          7.65602400e-02,   1.44719210e-01,   1.25248836e-01,\n",
       "          9.27677576e-02,   1.63866052e-01,   8.79892340e-02,\n",
       "          1.66510295e-01,   9.04333794e-02,   1.41406588e-01,\n",
       "          1.79909017e-02,   6.32592349e-02,   9.68129091e-02,\n",
       "          1.37029211e-01,   1.08496865e-01,   1.58835240e-01,\n",
       "          1.27982464e-01,   2.68578113e-01,   2.39522570e-01,\n",
       "          1.56968211e-02,   8.49026727e-02,   3.96928961e-02,\n",
       "          9.78099520e-02,   5.29656179e-02,   1.35185282e-01,\n",
       "          1.09484710e-01,   1.77151847e-01,   1.09092278e-01,\n",
       "          1.18451995e-01,   2.37696861e-01,   1.79703626e-01,\n",
       "          2.63370503e-01,   1.32790986e-01,   3.96021365e-02,\n",
       "          6.91903762e-02,   5.51538725e-02,   2.06142595e-01,\n",
       "          1.98099563e-01,   1.71283860e-01,   9.97034133e-02,\n",
       "          4.78642023e-04,   8.58287043e-02,   1.88931289e-01,\n",
       "          1.04916806e-01,   3.80319337e-02,   9.11407531e-02,\n",
       "          5.68388165e-02,   1.14535829e-01,   1.25564636e-01,\n",
       "          9.72385302e-02,   8.72690004e-02,   1.95557166e-01,\n",
       "          1.35643707e-01,   1.93646211e-01,   1.28352655e-01,\n",
       "          1.04608853e-01,   2.10558440e-01,   1.83855806e-01,\n",
       "          1.01786452e-01,   8.89007426e-02,   5.80329242e-02,\n",
       "          1.74555095e-01,   8.19662792e-02,   1.36526329e-01,\n",
       "          8.02988314e-02,   1.14360061e-01,   1.97704280e-01,\n",
       "          1.39576903e-01,   6.51264537e-02,   1.44483433e-01,\n",
       "          4.18217300e-02,   7.77585130e-02,   1.65206938e-01,\n",
       "          1.55908140e-01,   2.92533950e-02,   1.13043188e-01,\n",
       "          7.50432087e-02,   1.64079788e-01,   3.28479053e-02,\n",
       "          3.85339390e-02,   1.73660117e-01,   4.34870189e-02,\n",
       "          7.37369651e-02,   1.64317780e-01,   1.58239672e-01,\n",
       "          1.09335812e-01,   1.62240638e-01,   9.68842897e-02,\n",
       "          2.68814242e-01,   5.33075200e-02,   2.14875229e-01,\n",
       "          1.02113476e-01,   9.05022960e-02,   1.29072252e-01,\n",
       "          1.07182539e-02,   7.86171243e-02,   6.54252951e-02,\n",
       "          2.10592844e-01,   1.93538905e-01,   1.77929434e-01,\n",
       "          4.78842975e-02,   5.88183031e-02,   1.00036374e-01,\n",
       "          1.69746048e-01,   5.27863245e-02,   1.18320674e-01,\n",
       "          7.89476976e-02,   1.05484416e-01,   2.32216144e-01,\n",
       "          2.95808215e-02,   3.70455581e-02,   9.14530072e-02,\n",
       "          9.80384402e-02,   1.39272571e-01,   1.18773385e-01,\n",
       "          1.35612443e-01,   1.90622918e-01,   1.67191311e-02,\n",
       "          1.24692940e-01,   7.98144907e-02,   1.80990185e-01,\n",
       "          1.70141299e-01,   7.95980988e-02,   8.81993072e-02,\n",
       "          1.00526501e-01,   1.55777304e-01,   1.48464202e-01,\n",
       "          1.76786507e-02,   8.90811092e-03,   5.61522055e-02,\n",
       "          1.49430116e-01,   1.11546152e-01,   1.55216756e-01,\n",
       "          1.35719627e-01,   1.05442494e-01,   1.93626929e-01,\n",
       "          2.15110973e-01,   1.36807029e-01,   1.15422237e-01,\n",
       "          9.29400535e-03,   2.19646045e-01,   1.57829779e-01,\n",
       "          2.07968741e-01,   8.28355237e-02,   1.26204943e-01,\n",
       "          3.31305743e-02,   1.48128088e-01,   8.89398852e-02,\n",
       "          1.79192087e-01,   9.15207548e-02,   2.29199744e-01,\n",
       "          3.38383130e-02,   1.17169008e-01,   3.62122378e-02,\n",
       "          9.59691920e-02,   1.49637374e-01,   1.97144132e-01,\n",
       "          1.51054752e-01,   5.67455229e-02,   1.34903108e-01,\n",
       "          1.40799214e-01,   9.57406634e-02,   3.49864411e-02,\n",
       "          2.30006403e-01,   6.34231428e-03,   2.01748592e-01,\n",
       "          8.08827221e-02,   1.13193820e-01,   4.13649808e-02,\n",
       "          7.03538369e-02,   3.62262577e-02,   4.71026895e-02,\n",
       "          6.04325526e-03,   7.44074264e-02,   8.81364076e-02,\n",
       "          1.20371981e-01,   2.06876035e-01,   3.18205093e-02,\n",
       "          1.63728195e-01,   1.02786101e-01,   1.86946555e-01,\n",
       "          1.44128997e-01,   7.70440526e-02,   1.07265224e-01,\n",
       "          1.53516434e-01,   7.31446930e-02,   1.17965366e-01,\n",
       "          5.39197632e-02,   3.96420502e-02,   9.61228588e-02,\n",
       "          3.33867805e-02,   1.32733477e-01,   5.80124018e-03,\n",
       "          1.15244527e-01,   8.17208338e-02,   1.12156628e-01,\n",
       "          6.79094812e-02,   1.37799592e-01,   2.27797896e-01,\n",
       "          1.08649021e-01,   7.98928944e-02,   6.16204649e-02,\n",
       "          9.25014001e-02,   1.13061094e-01,   9.07668070e-02,\n",
       "          4.35582218e-02,   1.97411146e-01,   2.11956147e-01,\n",
       "          3.53736362e-02,   3.39674893e-02,   2.32873955e-01,\n",
       "          6.80358933e-02,   1.25775641e-01,   3.05027707e-02,\n",
       "          1.79731706e-01,   1.70893809e-01,   8.33009239e-02,\n",
       "          9.24372766e-03,   1.16468354e-01,   1.39651363e-01,\n",
       "          1.02774808e-01,   1.98192293e-01,   1.12510304e-02,\n",
       "          7.80723662e-02,   1.47449927e-01,   1.12944195e-01,\n",
       "          1.12362910e-01,   1.24503017e-01,   9.89862320e-02,\n",
       "          2.61355936e-01,   1.29156279e-01,   1.49274844e-01,\n",
       "          5.06238079e-02,   1.09061518e-01,   1.04998567e-01,\n",
       "          9.82660986e-02,   1.34823318e-01,   1.00353587e-01,\n",
       "          7.33226730e-02,   9.98731593e-02,   1.41597675e-01,\n",
       "          1.55480967e-01,   2.05844191e-02,   1.21492692e-01,\n",
       "          2.28694969e-01,   1.35465606e-01,   9.51911978e-02,\n",
       "          1.03200545e-01,   1.31110309e-01,   3.11589590e-02,\n",
       "          7.29575528e-02,   1.03763212e-01,   8.93788395e-02,\n",
       "          8.25223577e-02,   6.64087353e-02,   2.33984625e-01,\n",
       "          1.68083801e-01,   1.34363859e-01,   1.50947599e-01,\n",
       "          1.23430031e-01,   3.03772966e-02,   1.53426044e-01,\n",
       "          1.36885262e-01,   4.53609414e-02,   1.02450308e-01,\n",
       "          2.55948822e-02,   1.52280236e-01,   1.47159928e-01,\n",
       "          1.57400706e-01,   9.57764189e-02,   1.57636595e-01,\n",
       "          7.14942081e-02,   2.44721102e-02,   1.15468480e-01,\n",
       "          2.29809849e-02,   6.78500958e-02,   2.23565613e-01,\n",
       "          2.24977389e-01,   1.24899359e-01,   2.94510585e-02,\n",
       "          2.60495901e-01,   1.45103914e-01,   6.34039338e-02,\n",
       "          1.28669477e-01,   1.74626737e-02,   4.21579250e-02,\n",
       "          2.29821146e-01,   8.39293269e-02,   1.26501539e-01,\n",
       "          7.43140720e-02,   2.07250278e-01,   1.72762286e-01,\n",
       "          9.93932851e-02,   1.44412297e-01,   2.42132076e-02,\n",
       "          6.39313305e-02,   2.20188402e-01,   8.27707772e-03,\n",
       "          1.74328922e-01,   6.61785102e-02,   1.01528998e-01,\n",
       "          1.16247812e-01,   1.89217649e-01,   1.25734900e-01,\n",
       "          1.00962400e-01,   3.78631596e-02,   1.62248275e-01,\n",
       "          2.16246225e-01,   8.10006579e-02,   1.47599912e-01,\n",
       "          1.29775799e-01,   8.79321689e-02,   1.22177902e-01,\n",
       "          8.33345545e-02,   8.73135859e-02,   1.13184798e-01,\n",
       "          6.89601977e-02,   1.17704776e-01,   9.74200018e-02,\n",
       "          1.26457272e-01,   8.29437821e-02,   1.30824939e-01,\n",
       "          8.04586062e-02,   1.13910939e-01,   2.24682706e-01,\n",
       "          1.92469757e-01,   7.91573998e-02,   1.07626041e-01,\n",
       "          6.41490981e-02,   1.04392085e-01,   4.82555799e-02,\n",
       "          1.84442625e-01,   1.56717450e-01,   2.08971184e-02,\n",
       "          3.54723183e-02,   1.05380096e-01,   6.35702246e-02,\n",
       "          1.90603643e-01,   6.56668075e-02,   1.84508539e-01,\n",
       "          7.68044810e-02,   1.54694867e-01,   9.49934812e-02,\n",
       "          6.69199786e-02,   1.31598187e-01,   1.48687265e-01,\n",
       "          1.43610657e-01,   2.66392980e-01,   1.10835233e-01,\n",
       "          1.02558106e-01,   6.12735864e-02,   1.89875318e-01,\n",
       "          8.69340977e-02,   9.98980833e-02,   1.02354200e-01,\n",
       "          1.14566497e-01,   1.45474891e-01,   1.04099627e-01,\n",
       "          4.93820606e-02,   1.37081072e-01,   1.27329600e-01,\n",
       "          3.16921889e-02,   4.85564550e-02,   1.27736791e-01,\n",
       "          1.17638615e-01,   1.28192215e-01,   1.02417934e-01,\n",
       "          6.07883244e-02,   1.52766933e-01,   1.22158556e-01,\n",
       "          1.03031520e-01,   7.63280412e-02,   7.63100422e-03,\n",
       "          1.91283766e-01,   9.69078174e-02,   2.77329140e-03,\n",
       "          1.46613177e-01,   1.55826956e-01,   1.07707611e-01,\n",
       "          2.43003406e-01,   1.37773350e-01,   3.31570703e-02,\n",
       "          7.99555907e-02,   1.40471500e-01,   2.21249878e-01,\n",
       "          2.30461784e-01,   5.25646429e-02,   6.77643070e-02,\n",
       "          1.60970970e-01,   1.23932139e-01,   2.02576143e-01,\n",
       "          1.23851356e-01,   1.12582043e-01,   7.33524942e-02,\n",
       "          9.20769377e-02,   6.88231534e-02,   2.14492352e-01,\n",
       "          1.37430038e-01,   1.13693057e-01,   1.39940893e-01,\n",
       "          8.36663370e-02,   1.78784761e-01,   1.55064177e-01,\n",
       "          9.06075079e-02,   1.58407252e-01,   1.36058725e-01,\n",
       "          9.72979657e-02,   9.77533036e-02,   3.73292701e-02,\n",
       "          9.14882397e-02,   2.65046742e-01,   1.62279468e-01,\n",
       "          2.34401961e-01,   5.99036521e-02,   1.77983646e-01,\n",
       "          7.70093654e-02,   1.54989418e-05,   1.33429035e-01,\n",
       "          7.92085665e-02,   1.61741423e-01,   4.66059643e-02,\n",
       "          1.75275108e-01,   1.06570789e-01,   9.06540531e-02,\n",
       "          2.65199225e-01,   1.06622795e-01,   1.58481634e-01,\n",
       "          1.20897015e-01,   1.16157901e-01,   1.62302626e-01,\n",
       "          1.31680642e-01,   1.21693736e-01,   1.23265350e-01,\n",
       "          1.27202433e-01,   2.09780003e-01,   1.66180264e-01,\n",
       "          1.38675171e-01,   1.37498219e-01,   9.36321924e-02,\n",
       "          2.26885579e-01,   1.88821300e-01,   1.25212512e-01,\n",
       "          2.68680521e-02,   1.65270082e-02,   1.88432618e-01,\n",
       "          9.04291508e-02,   1.03292547e-01,   8.21547132e-02,\n",
       "          1.51921283e-01,   9.47837088e-02,   1.26638731e-01,\n",
       "          2.00726514e-01,   7.95859621e-02,   1.14030467e-01,\n",
       "          3.86683142e-02,   1.02364859e-01,   4.23959137e-02,\n",
       "          1.48046412e-01,   7.07107715e-02,   1.90651944e-01,\n",
       "          1.16056067e-01,   2.15039214e-01,   1.37544915e-01,\n",
       "          1.92692993e-01,   2.08735815e-01,   2.43042355e-02,\n",
       "          1.46859205e-01,   1.14843213e-01,   7.10350864e-02,\n",
       "          9.16438456e-02,   1.17691083e-02,   1.51860057e-02,\n",
       "          1.44037518e-01,   1.79221113e-01,   8.07544707e-03,\n",
       "          3.65725257e-02,   1.08861615e-01,   1.17057666e-01,\n",
       "          1.50756158e-01,   2.45918336e-01,   1.47188865e-01,\n",
       "          8.79979129e-02,   1.92726476e-01,   1.86146879e-01,\n",
       "          1.40261287e-01,   1.68036354e-01,   8.15188104e-02,\n",
       "          1.64103800e-01,   6.33723966e-02,   9.92562677e-02,\n",
       "          6.62085983e-02,   8.17563570e-02,   8.23854138e-02,\n",
       "          6.90455143e-02,   1.21681025e-01,   2.11985960e-01,\n",
       "          5.78474611e-02,   1.27609628e-01,   2.29420658e-01,\n",
       "          8.12547927e-02,   1.31784160e-01,   1.07636432e-01,\n",
       "          8.27235602e-02,   1.35982843e-01,   1.83748642e-02,\n",
       "          1.21217176e-01,   2.59862974e-02,   1.22309267e-01,\n",
       "          1.77894492e-01,   1.65546374e-01,   5.15252184e-02,\n",
       "          9.76890970e-02,   1.51682571e-01,   1.06774672e-01,\n",
       "          1.95233625e-01,   1.51236312e-01,   1.29954679e-01,\n",
       "          1.30507686e-02,   2.26022785e-01,   4.53966769e-02,\n",
       "          3.31601326e-02,   9.23912929e-02,   1.81565905e-01,\n",
       "          2.04319247e-02,   1.46579112e-01,   6.40250345e-02,\n",
       "          1.45871218e-01,   9.69051856e-02,   1.58878966e-01,\n",
       "          9.93079110e-02,   1.44941526e-01,   1.03996721e-01,\n",
       "          1.41070374e-02,   9.51611922e-02,   1.22216738e-01,\n",
       "          1.45949786e-01,   9.22732345e-02,   1.76326843e-01,\n",
       "          3.56367123e-02,   1.03025291e-01,   1.88361991e-01,\n",
       "          1.00513509e-01,   1.94836214e-02,   1.98792086e-01,\n",
       "          1.60362211e-01,   1.96744270e-01,   1.22859846e-01,\n",
       "          7.07172455e-02,   1.96242844e-01,   1.49518536e-01,\n",
       "          1.63400669e-01,   2.24135507e-01,   9.60888710e-02,\n",
       "          1.06393183e-01,   9.31766626e-02,   1.80569731e-01,\n",
       "          1.07191684e-01,   1.27144257e-01,   4.10925518e-02,\n",
       "          1.44587762e-01,   2.35279813e-01,   1.36090760e-01,\n",
       "          1.30870395e-01,   1.30218528e-01,   6.75065334e-02,\n",
       "          1.03197919e-01,   2.64469596e-01,   1.25750274e-01,\n",
       "          6.61340176e-02,   1.48666848e-01,   8.71398628e-02,\n",
       "          1.19465208e-01,   9.71754047e-02,   3.63464237e-02,\n",
       "          1.60677380e-01,   3.35299925e-02,   1.77184281e-01,\n",
       "          3.44895633e-01,   9.95655062e-02,   1.21976118e-01,\n",
       "          2.26351108e-01,   1.26466495e-01,   1.32627918e-01,\n",
       "          9.94084779e-02,   8.75047835e-02,   1.15661982e-01,\n",
       "          8.95756022e-02]))"
      ]
     },
     "execution_count": 21,
     "metadata": {},
     "output_type": "execute_result"
    }
   ],
   "source": [
    "myplfit.test_pl()"
   ]
  },
  {
   "cell_type": "code",
   "execution_count": 22,
   "metadata": {
    "collapsed": false
   },
   "outputs": [
    {
     "name": "stdout",
     "output_type": "stream",
     "text": [
      "PYTHON plfit executed in 0.068561 seconds\n",
      "xmin: 491"
     ]
    },
    {
     "name": "stderr",
     "output_type": "stream",
     "text": [
      "/usr/local/anaconda3/lib/python3.5/site-packages/plfit/plfit.py:119: RuntimeWarning: divide by zero encountered in double_scalars\n",
      "  a = 1+float(n) / sum(log(x/xmin))\n"
     ]
    },
    {
     "name": "stdout",
     "output_type": "stream",
     "text": [
      " n(>xmin): 555 alpha: 3.35473 +/- 0.0999529   Log-Likelihood: -3754.4   ks: 0.19721 p(ks): 0\n"
     ]
    },
    {
     "data": {
      "image/png": "[encoded data removed]",
      "text/plain": [
       "<matplotlib.figure.Figure at 0x114a4e748>"
      ]
     },
     "metadata": {},
     "output_type": "display_data"
    },
    {
     "data": {
      "image/png": "[encoded data removed]",
      "text/plain": [
       "<matplotlib.figure.Figure at 0x11e1d43c8>"
      ]
     },
     "metadata": {},
     "output_type": "display_data"
    }
   ],
   "source": [
    "import plfit\n",
    "from numpy.random import rand,seed\n",
    "\n",
    "# generate a power law using the \"inverse\" power-law generator code\n",
    "# X = plfit.plexp_inv(rand(1000),1,2.5)\n",
    "X = xdata\n",
    "\n",
    "# use the numpy version to fit (usefortran=False is only needed if you installed the fortran version)\n",
    "myplfit = plfit.plfit(X, usefortran=False)\n",
    "# output should look something like this:\n",
    "# PYTHON plfit executed in 0.201362 seconds\n",
    "# xmin: 0.621393 n(>xmin): 263 alpha: 2.39465 +/- 0.0859979   Log-Likelihood: -238.959   ks: 0.0278864 p(ks): 0.986695\n",
    "\n",
    "# generate some plots\n",
    "from pylab import *\n",
    "figure(1)\n",
    "myplfit.plotpdf()\n",
    "\n",
    "figure(2)\n",
    "myplfit.plotcdf()\n"
   ]
  }
 ],
 "metadata": {
  "anaconda-cloud": {},
  "kernelspec": {
   "display_name": "Python [default]",
   "language": "python",
   "name": "python3"
  },
  "language_info": {
   "codemirror_mode": {
    "name": "ipython",
    "version": 3
   },
   "file_extension": ".py",
   "mimetype": "text/x-python",
   "name": "python",
   "nbconvert_exporter": "python",
   "pygments_lexer": "ipython3",
   "version": "3.5.2"
  }
 },
 "nbformat": 4,
 "nbformat_minor": 1
}
